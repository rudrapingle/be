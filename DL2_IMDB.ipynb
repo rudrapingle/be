{
 "cells": [
  {
   "cell_type": "markdown",
   "id": "481722bf-98e2-421f-b5f9-4222ea25a85c",
   "metadata": {},
   "source": [
    "**Classification using Deep neural network (Any One from the following) Binary classification using Deep Neural Networks Example: Classify movie reviews into positiv reviews an \"negativ\" reviews, just based on the text content of the reviews Use IMDB dataset**"
   ]
  },
  {
   "cell_type": "code",
   "execution_count": 1,
   "id": "3f7670ce-03e9-48c6-96da-c67881b3787e",
   "metadata": {},
   "outputs": [],
   "source": [
    "import numpy as np\n",
    "from tensorflow.keras.datasets import imdb\n",
    "from tensorflow.keras.models import Sequential\n",
    "from tensorflow.keras.preprocessing.sequence import pad_sequences\n",
    "from tensorflow.keras.layers import Dense, Embedding, Flatten, Dropout\n",
    "import matplotlib.pyplot as plt"
   ]
  },
  {
   "cell_type": "code",
   "execution_count": 2,
   "id": "07d4e726-cefc-4c3f-9226-5ba288ae54fc",
   "metadata": {},
   "outputs": [],
   "source": [
    "max_features = 10000\n",
    "maxlen = 200"
   ]
  },
  {
   "cell_type": "code",
   "execution_count": 3,
   "id": "7a85b11e-0a64-4c9f-8773-acdc9ab532de",
   "metadata": {},
   "outputs": [],
   "source": [
    "(X_train, y_train), (X_test, y_test) = imdb.load_data(num_words=max_features)\n",
    "X_train = pad_sequences(X_train, maxlen=maxlen)\n",
    "X_test = pad_sequences(X_test, maxlen=maxlen)"
   ]
  },
  {
   "cell_type": "code",
   "execution_count": 4,
   "id": "09cb2af6-df85-40e5-bd90-128aba9895a2",
   "metadata": {},
   "outputs": [],
   "source": [
    "model = Sequential([\n",
    "    Embedding(max_features, 128, input_length=maxlen),\n",
    "    Flatten(),\n",
    "    Dense(64, activation='relu'),\n",
    "    Dropout(0.5),\n",
    "    Dense(1, activation='sigmoid')\n",
    "])"
   ]
  },
  {
   "cell_type": "code",
   "execution_count": 5,
   "id": "1b53d40a-ab9f-4228-9c2a-969af70c9d00",
   "metadata": {},
   "outputs": [
    {
     "name": "stdout",
     "output_type": "stream",
     "text": [
      "Model: \"sequential\"\n",
      "_________________________________________________________________\n",
      " Layer (type)                Output Shape              Param #   \n",
      "=================================================================\n",
      " embedding (Embedding)       (None, 200, 128)          1280000   \n",
      "                                                                 \n",
      " flatten (Flatten)           (None, 25600)             0         \n",
      "                                                                 \n",
      " dense (Dense)               (None, 64)                1638464   \n",
      "                                                                 \n",
      " dropout (Dropout)           (None, 64)                0         \n",
      "                                                                 \n",
      " dense_1 (Dense)             (None, 1)                 65        \n",
      "                                                                 \n",
      "=================================================================\n",
      "Total params: 2918529 (11.13 MB)\n",
      "Trainable params: 2918529 (11.13 MB)\n",
      "Non-trainable params: 0 (0.00 Byte)\n",
      "_________________________________________________________________\n"
     ]
    }
   ],
   "source": [
    "model.summary()"
   ]
  },
  {
   "cell_type": "code",
   "execution_count": 6,
   "id": "e45e901c-cf58-48f2-bc00-e306a70fd333",
   "metadata": {},
   "outputs": [],
   "source": [
    "model.compile(optimizer='adam', loss='binary_crossentropy', metrics=['accuracy'])"
   ]
  },
  {
   "cell_type": "code",
   "execution_count": 8,
   "id": "3e1e31c7-d4b2-41a7-b357-f9846da70be9",
   "metadata": {},
   "outputs": [
    {
     "name": "stdout",
     "output_type": "stream",
     "text": [
      "Epoch 1/10\n",
      "313/313 [==============================] - 20s 65ms/step - loss: 2.2090e-04 - accuracy: 1.0000 - val_loss: 0.6111 - val_accuracy: 0.8704\n",
      "Epoch 2/10\n",
      "313/313 [==============================] - 23s 75ms/step - loss: 1.7339e-04 - accuracy: 1.0000 - val_loss: 0.6292 - val_accuracy: 0.8690\n",
      "Epoch 3/10\n",
      "313/313 [==============================] - 26s 83ms/step - loss: 1.9959e-04 - accuracy: 0.9999 - val_loss: 0.6505 - val_accuracy: 0.8622\n",
      "Epoch 4/10\n",
      "313/313 [==============================] - 27s 86ms/step - loss: 1.8245e-04 - accuracy: 1.0000 - val_loss: 0.6631 - val_accuracy: 0.8698\n",
      "Epoch 5/10\n",
      "313/313 [==============================] - 25s 80ms/step - loss: 8.8102e-05 - accuracy: 1.0000 - val_loss: 0.6772 - val_accuracy: 0.8688\n",
      "Epoch 6/10\n",
      "313/313 [==============================] - 22s 70ms/step - loss: 8.5159e-05 - accuracy: 1.0000 - val_loss: 0.6936 - val_accuracy: 0.8706\n",
      "Epoch 7/10\n",
      "313/313 [==============================] - 20s 65ms/step - loss: 5.8595e-05 - accuracy: 1.0000 - val_loss: 0.7046 - val_accuracy: 0.8710\n",
      "Epoch 8/10\n",
      "313/313 [==============================] - 20s 63ms/step - loss: 4.5535e-05 - accuracy: 1.0000 - val_loss: 0.7192 - val_accuracy: 0.8698\n",
      "Epoch 9/10\n",
      "313/313 [==============================] - 22s 70ms/step - loss: 5.2971e-05 - accuracy: 1.0000 - val_loss: 0.7339 - val_accuracy: 0.8704\n",
      "Epoch 10/10\n",
      "313/313 [==============================] - 21s 67ms/step - loss: 3.0459e-05 - accuracy: 1.0000 - val_loss: 0.7512 - val_accuracy: 0.8708\n"
     ]
    }
   ],
   "source": [
    "history = model.fit(X_train, y_train, epochs=10, batch_size=64, validation_split=0.2)"
   ]
  },
  {
   "cell_type": "code",
   "execution_count": 9,
   "id": "929945a5-7d93-461b-955f-00f710d807bd",
   "metadata": {},
   "outputs": [
    {
     "data": {
      "image/png": "[encoded data removed]",
      "text/plain": [
       "<Figure size 640x480 with 1 Axes>"
      ]
     },
     "metadata": {},
     "output_type": "display_data"
    }
   ],
   "source": [
    "plt.plot(history.history['loss'], label='Training Loss')\n",
    "plt.plot(history.history['val_loss'], label='Validation Loss')\n",
    "plt.xlabel('Epoch')\n",
    "plt.ylabel('Loss')\n",
    "plt.legend()\n",
    "plt.show()"
   ]
  },
  {
   "cell_type": "code",
   "execution_count": 10,
   "id": "bec144aa-760e-4898-9b19-a8103656af2e",
   "metadata": {},
   "outputs": [
    {
     "name": "stdout",
     "output_type": "stream",
     "text": [
      "782/782 [==============================] - 12s 15ms/step - loss: 0.1502 - accuracy: 0.9742\n",
      "Train Loss: 0.15024280548095703, Train Accuracy: 0.9741600155830383\n"
     ]
    }
   ],
   "source": [
    "train_loss, train_accuracy = model.evaluate(X_train, y_train)\n",
    "print(f'Train Loss: {train_loss}, Train Accuracy: {train_accuracy}')"
   ]
  },
  {
   "cell_type": "code",
   "execution_count": 11,
   "id": "0eaba580-254a-4442-9217-3effe99b6906",
   "metadata": {},
   "outputs": [
    {
     "name": "stdout",
     "output_type": "stream",
     "text": [
      "782/782 [==============================] - 10s 13ms/step - loss: 0.7451 - accuracy: 0.8671\n",
      "Test Loss: 0.7450793981552124, Test Accuracy: 0.8671200275421143\n"
     ]
    }
   ],
   "source": [
    "test_loss, test_accuracy = model.evaluate(X_test, y_test)\n",
    "print(f'Test Loss: {test_loss}, Test Accuracy: {test_accuracy}')"
   ]
  },
  {
   "cell_type": "code",
   "execution_count": 12,
   "id": "b021a5a4-adcc-4313-b87d-d1b8a7314042",
   "metadata": {},
   "outputs": [
    {
     "name": "stdout",
     "output_type": "stream",
     "text": [
      "782/782 [==============================] - 12s 13ms/step\n"
     ]
    }
   ],
   "source": [
    "predictions = model.predict(X_test)"
   ]
  },
  {
   "cell_type": "code",
   "execution_count": 16,
   "id": "3f21a1bc-1bd4-4391-bdcd-035fa9715de3",
   "metadata": {},
   "outputs": [],
   "source": [
    "predicted_sentiment = \"Positive\" if predictions[0][0] > 0.5 else \"Negative\"\n",
    "actual_sentiment = \"Positive\" if y_test[0] == 1 else \"Negative\""
   ]
  },
  {
   "cell_type": "code",
   "execution_count": 17,
   "id": "6e5893ff-7029-43c6-8ce4-263d3a219d34",
   "metadata": {},
   "outputs": [
    {
     "name": "stdout",
     "output_type": "stream",
     "text": [
      "Predicted Sentiment: Negative\n",
      "Actual Sentiment: Negative\n"
     ]
    }
   ],
   "source": [
    "print(\"Predicted Sentiment:\", predicted_sentiment)\n",
    "print(\"Actual Sentiment:\", actual_sentiment)"
   ]
  }
 ],
 "metadata": {
  "kernelspec": {
   "display_name": "Python 3 (ipykernel)",
   "language": "python",
   "name": "python3"
  },
  "language_info": {
   "codemirror_mode": {
    "name": "ipython",
    "version": 3
   },
   "file_extension": ".py",
   "mimetype": "text/x-python",
   "name": "python",
   "nbconvert_exporter": "python",
   "pygments_lexer": "ipython3",
   "version": "3.10.6"
  }
 },
 "nbformat": 4,
 "nbformat_minor": 5
}
